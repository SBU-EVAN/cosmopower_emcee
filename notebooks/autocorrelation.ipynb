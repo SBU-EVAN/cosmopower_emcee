{
 "cells": [
  {
   "cell_type": "code",
   "execution_count": 5,
   "id": "64fb3bd1",
   "metadata": {},
   "outputs": [],
   "source": [
    "# Autocorrelation Analysis\n",
    "import numpy as np\n",
    "import matplotlib.pyplot as plt\n",
    "import tensorflow as tf\n",
    "import tensorflow_probability as tfp\n",
    "from tqdm.notebook import tqdm\n",
    "import sys\n",
    "import time\n",
    "import emcee\n",
    "from numpy import linalg\n",
    "import scipy\n",
    "import cosmopower as cp\n",
    "import os\n",
    "%matplotlib inline"
   ]
  },
  {
   "cell_type": "code",
   "execution_count": 4,
   "id": "f0bdfcac",
   "metadata": {},
   "outputs": [],
   "source": [
    "ipynb_path = os.path.dirname(os.path.realpath(\"__file__\"))\n",
    "\n",
    "tt_emu_model = cp.cosmopower_NN(restore=True,\n",
    "                                restore_filename=os.path.join(ipynb_path, '../cosmopower/trained_models/CP_paper/CMB/cmb_TT_NN')\n",
    "                               )\n",
    "\n",
    "te_emu_model = cp.cosmopower_PCAplusNN(restore=True,\n",
    "                                restore_filename=os.path.join(ipynb_path, '../cosmopower/trained_models/CP_paper/CMB/cmb_TE_PCAplusNN')\n",
    "                               )\n",
    "\n",
    "ee_emu_model = cp.cosmopower_NN(restore=True,\n",
    "                                restore_filename=os.path.join(ipynb_path, '../cosmopower/trained_models/CP_paper/CMB/cmb_EE_NN')\n",
    "                               )"
   ]
  },
  {
   "cell_type": "code",
   "execution_count": 7,
   "id": "c9da5234",
   "metadata": {},
   "outputs": [
    {
     "name": "stderr",
     "output_type": "stream",
     "text": [
      "2022-06-16 16:10:44.499475: I tensorflow/core/util/cuda_solvers.cc:179] Creating GpuSolver handles for stream 0x55a56ea98bd0\n"
     ]
    }
   ],
   "source": [
    "# path to the tf_planck2018_lite likelihood\n",
    "tf_planck2018_lite_path = './../cosmopower/likelihoods/tf_planck2018_lite/'\n",
    "\n",
    "# parameters of the analysis, and their priors\n",
    "parameters_and_priors = {'omega_b':      [0.001, 0.04, 'uniform'],\n",
    "                         'omega_cdm':    [0.005, 0.99,  'uniform'],\n",
    "                         'h':            [0.2,   1.0,   'uniform'],\n",
    "                         'tau_reio':     [0.01,  0.8,   'uniform'],\n",
    "                         'n_s':          [0.9,   1.1,   'uniform'],\n",
    "                         'ln10^{10}A_s': [1.61,  3.91,  'uniform'],\n",
    "                         'A_planck':     [1.0,   0.01,  'gaussian'],\n",
    "                          }\n",
    "\n",
    "# instantiation\n",
    "tf_planck = cp.tf_planck2018_lite(parameters=parameters_and_priors, \n",
    "                                  tf_planck2018_lite_path=tf_planck2018_lite_path,\n",
    "                                  tt_emu_model=tt_emu_model,\n",
    "                                  te_emu_model=te_emu_model,\n",
    "                                  ee_emu_model=ee_emu_model\n",
    "                                  )\n",
    "\n",
    "# initial points\n",
    "FIDUCIAL = np.reshape(np.array([ 0.022242,  0.11977,  0.673,  0.055,  0.9658,  3.0753,  1.0080]).astype('float32'), (1, 7))\n",
    "EPSILON  = np.reshape(np.array([ 1E-4,      1E-4,     1E-2,   1E-3,   1E-3,    1E-3,    1E-4]).astype('float32'), (1,7))"
   ]
  },
  {
   "cell_type": "code",
   "execution_count": 18,
   "id": "c128c2d9",
   "metadata": {},
   "outputs": [
    {
     "name": "stdout",
     "output_type": "stream",
     "text": [
      "(7,)\n",
      "(120, 7)\n"
     ]
    }
   ],
   "source": [
    "# using emcee instead of affine.\n",
    "n_walkers=120\n",
    "n_steps = 500000\n",
    "n_dim = 7\n",
    "\n",
    "# fiducial sample (or should be, this is only close to it)\n",
    "theta0    = np.array([0.02,\n",
    "                     0.01,\n",
    "                     0.7,\n",
    "                     0.05,\n",
    "                     1.0,\n",
    "                     3.1,\n",
    "                     1.0],dtype=np.float32)\n",
    "\n",
    "# Starting position of the emcee chain\n",
    "print(theta0.shape)\n",
    "print(np.random.normal(size=(n_walkers, n_dim)).shape)\n",
    "pos0 = theta0[np.newaxis] + np.random.normal(size=(n_walkers, n_dim))/100\n",
    "pos0 = pos0.astype(np.float32)"
   ]
  },
  {
   "cell_type": "code",
   "execution_count": 20,
   "id": "e6e9e461",
   "metadata": {},
   "outputs": [
    {
     "name": "stdout",
     "output_type": "stream",
     "text": [
      "--- MCMC ---\n",
      "N_iterations = 500000\n",
      "N_walkers = 120\n",
      "N_samples = 60000000\n",
      "\n"
     ]
    },
    {
     "name": "stderr",
     "output_type": "stream",
     "text": [
      "  0%|▎                                                                                                                                                                         | 995/500000 [00:14<2:01:19, 68.55it/s]/home/grads/.local/lib/python3.7/site-packages/ipykernel_launcher.py:37: RuntimeWarning: divide by zero encountered in double_scalars\n",
      "100%|███████████████████████████████████████████████████████████████████████████████████████████████████████████████████████████████████████████████████████████████████████| 500000/500000 [9:02:08<00:00, 15.37it/s]\n"
     ]
    }
   ],
   "source": [
    "autocorr       = np.zeros(n_steps)\n",
    "autocorr_ratio = np.zeros(n_steps)\n",
    "\n",
    "index = 0\n",
    "old_tau=np.inf\n",
    "aold_tau=0\n",
    "\n",
    "print('--- MCMC ---')\n",
    "print('N_iterations = {}'.format(n_steps))\n",
    "print('N_walkers = {}'.format(n_walkers))\n",
    "print('N_samples = {}\\n'.format(n_steps*n_walkers))\n",
    "\n",
    "def log_prob(theta):\n",
    "    p=tf_planck.posterior(theta.astype(np.float32)).numpy()\n",
    "    return p\n",
    "\n",
    "# instantiation\n",
    "tf_planck = cppl(parameters=parameters_and_priors, \n",
    "                                  tf_planck2018_lite_path='/home/grads/data/evan/cosmopower_emcee/cosmopower/likelihoods/tf_planck2018_lite',\n",
    "                                  tt_emu_model=tt_emu_model,\n",
    "                                  te_emu_model=te_emu_model,\n",
    "                                  ee_emu_model=ee_emu_model\n",
    "                                  )\n",
    "\n",
    "emu_sampler = emcee.EnsembleSampler(n_walkers, n_dim, log_prob, vectorize=True)#, pool=pool)\n",
    "#emu_sampler.run_mcmc(pos0, n_steps, progress=True)\n",
    "for sample in emu_sampler.sample(pos0, iterations=n_steps, progress=True):\n",
    "        if(emu_sampler.iteration % 1000):\n",
    "            continue\n",
    "\n",
    "        # Compute the autocorrelation time so far\n",
    "        # Using tol=0 means that we'll always get an estimate even\n",
    "        # if it isn't trustworthy\n",
    "        tau = emu_sampler.get_autocorr_time(tol=0)\n",
    "        atau = np.max(tau)\n",
    "        autocorr[index] = atau\n",
    "        autocorr_ratio[index] = atau/aold_tau\n",
    "        index += 1\n",
    "\n",
    "        old_tau = tau\n",
    "        aold_tau = np.max(old_tau)"
   ]
  },
  {
   "cell_type": "code",
   "execution_count": 53,
   "id": "183f577b",
   "metadata": {},
   "outputs": [
    {
     "data": {
      "image/png": "[encoded data removed]",
      "text/plain": [
       "<Figure size 576x288 with 2 Axes>"
      ]
     },
     "metadata": {
      "needs_background": "light"
     },
     "output_type": "display_data"
    }
   ],
   "source": [
    "f, (ax1, ax2) = plt.subplots(1, 2, sharey=False)\n",
    "f.set_figheight(4)\n",
    "f.set_figwidth(8)\n",
    "n = 1000 * np.arange(2, index + 1)\n",
    "#print(n)\n",
    "#print(autocorr)\n",
    "plotlength = 50\n",
    "\n",
    "ax1.plot(n[0:plotlength-1],autocorr[1:plotlength])\n",
    "ax1.plot(n[0:plotlength-1],n[0:plotlength-1]/50,'k--',label='iterations/50')\n",
    "ax1.set_ylabel('tau')\n",
    "ax1.set_xlabel('iterations')\n",
    "ax1.set_ylim(70,90)\n",
    "ax1.legend()\n",
    "ax2.plot(n[0:plotlength-1],autocorr_ratio[1:plotlength])\n",
    "ax2.plot([0,1000*plotlength],[1,1],color='k')\n",
    "ax2.plot([0,1000*plotlength],[0.99,0.99],'k--')\n",
    "ax2.plot([0,1000*plotlength],[1.01,1.01],'k--')\n",
    "ax2.set_xlabel('iterations')\n",
    "ax2.set_ylabel('tau / prev. tau')\n",
    "ax2.set_ylim(0.98,1.05)\n",
    "plt.tight_layout()\n",
    "plt.show()\n",
    "#ax3.plot(n,autocorr_diff[1:index])\n",
    "#ax3.set_ylim(-0.01,1.1)"
   ]
  },
  {
   "cell_type": "code",
   "execution_count": null,
   "id": "39688221",
   "metadata": {},
   "outputs": [],
   "source": []
  }
 ],
 "metadata": {
  "kernelspec": {
   "display_name": "emu",
   "language": "python",
   "name": "emu"
  },
  "language_info": {
   "codemirror_mode": {
    "name": "ipython",
    "version": 3
   },
   "file_extension": ".py",
   "mimetype": "text/x-python",
   "name": "python",
   "nbconvert_exporter": "python",
   "pygments_lexer": "ipython3",
   "version": "3.7.7"
  }
 },
 "nbformat": 4,
 "nbformat_minor": 5
}
