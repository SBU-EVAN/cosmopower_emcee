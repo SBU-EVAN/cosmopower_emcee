{
 "cells": [
  {
   "cell_type": "code",
   "execution_count": 1,
   "id": "778d6aa7",
   "metadata": {},
   "outputs": [],
   "source": [
    "# Autocorrelation Analysis\n",
    "import numpy as np\n",
    "import matplotlib.pyplot as plt\n",
    "import tensorflow as tf\n",
    "import tensorflow_probability as tfp\n",
    "from tqdm.notebook import tqdm\n",
    "import sys\n",
    "import os\n",
    "import time\n",
    "import emcee\n",
    "from numpy import linalg\n",
    "import scipy\n",
    "import cosmopower as cp\n",
    "sys.path.append(os.path.join(os.path.dirname(\"__file__\"), '../cosmopower'))\n",
    "import likelihoods.tf_planck2018_lite as cppl\n",
    "%matplotlib inline\n"
   ]
  },
  {
   "cell_type": "code",
   "execution_count": 2,
   "id": "a55b0ae9",
   "metadata": {},
   "outputs": [
    {
     "name": "stderr",
     "output_type": "stream",
     "text": [
      "2022-06-22 20:26:13.319591: I tensorflow/core/platform/cpu_feature_guard.cc:151] This TensorFlow binary is optimized with oneAPI Deep Neural Network Library (oneDNN) to use the following CPU instructions in performance-critical operations:  AVX2 AVX512F FMA\n",
      "To enable them in other operations, rebuild TensorFlow with the appropriate compiler flags.\n",
      "2022-06-22 20:26:13.779184: I tensorflow/core/common_runtime/gpu/gpu_device.cc:1525] Created device /job:localhost/replica:0/task:0/device:GPU:0 with 3376 MB memory:  -> device: 0, name: NVIDIA GeForce GTX 960, pci bus id: 0000:09:00.0, compute capability: 5.2\n"
     ]
    }
   ],
   "source": [
    "ipynb_path = os.path.dirname(os.path.realpath(\"__file__\"))\n",
    "\n",
    "tt_emu_model = cp.cosmopower_NN(restore=True,\n",
    "                                restore_filename=os.path.join(ipynb_path, '../cosmopower/trained_models/CP_paper/CMB/cmb_TT_NN')\n",
    "                               )\n",
    "\n",
    "te_emu_model = cp.cosmopower_PCAplusNN(restore=True,\n",
    "                                restore_filename=os.path.join(ipynb_path, '../cosmopower/trained_models/CP_paper/CMB/cmb_TE_PCAplusNN')\n",
    "                               )\n",
    "\n",
    "ee_emu_model = cp.cosmopower_NN(restore=True,\n",
    "                                restore_filename=os.path.join(ipynb_path, '../cosmopower/trained_models/CP_paper/CMB/cmb_EE_NN')\n",
    "                               )"
   ]
  },
  {
   "cell_type": "code",
   "execution_count": 3,
   "id": "67cef60e",
   "metadata": {},
   "outputs": [],
   "source": [
    "# path to the tf_planck2018_lite likelihood\n",
    "tf_planck2018_lite_path = './../cosmopower/likelihoods/tf_planck2018_lite/'\n",
    "\n",
    "# parameters of the analysis, and their priors\n",
    "parameters_and_priors = {'omega_b':      [0.001, 0.04, 'uniform'],\n",
    "                         'omega_cdm':    [0.005, 0.99,  'uniform'],\n",
    "                         'h':            [0.2,   1.0,   'uniform'],\n",
    "                         'tau_reio':     [0.01,  0.8,   'uniform'],\n",
    "                         'n_s':          [0.9,   1.1,   'uniform'],\n",
    "                         'ln10^{10}A_s': [1.61,  3.91,  'uniform'],\n",
    "                         'A_planck':     [1.0,   0.01,  'gaussian'],\n",
    "                          }\n",
    "\n",
    "# instantiation\n",
    "#tf_planck = cp.tf_planck2018_lite(parameters=parameters_and_priors, \n",
    "#                                  tf_planck2018_lite_path=tf_planck2018_lite_path,\n",
    "#                                  tt_emu_model=tt_emu_model,\n",
    "#                                  te_emu_model=te_emu_model,\n",
    "#                                  ee_emu_model=ee_emu_model\n",
    "#                                  )\n",
    "\n",
    "# initial points\n",
    "FIDUCIAL = np.reshape(np.array([ 0.022242,  0.11977,  0.673,  0.055,  0.9658,  3.0753,  1.0080]).astype('float32'), (1, 7))\n",
    "EPSILON  = np.reshape(np.array([ 1E-4,      1E-4,     1E-2,   1E-3,   1E-3,    1E-3,    1E-4]).astype('float32'), (1,7))"
   ]
  },
  {
   "cell_type": "code",
   "execution_count": 4,
   "id": "c6fa22e6",
   "metadata": {},
   "outputs": [
    {
     "name": "stdout",
     "output_type": "stream",
     "text": [
      "(7,)\n",
      "(120, 7)\n"
     ]
    }
   ],
   "source": [
    "# using emcee instead of affine.\n",
    "n_walkers=120\n",
    "n_steps = 8000\n",
    "n_dim = 7\n",
    "\n",
    "# fiducial sample (or should be, this is only close to it)\n",
    "theta0    = np.array([0.02,\n",
    "                     0.01,\n",
    "                     0.7,\n",
    "                     0.05,\n",
    "                     1.0,\n",
    "                     3.1,\n",
    "                     1.0],dtype=np.float32)\n",
    "\n",
    "# Starting position of the emcee chain\n",
    "print(theta0.shape)\n",
    "print(np.random.normal(size=(n_walkers, n_dim)).shape)\n",
    "pos0 = theta0[np.newaxis] + np.random.normal(size=(n_walkers, n_dim))/100\n",
    "pos0 = pos0.astype(np.float32)"
   ]
  },
  {
   "cell_type": "code",
   "execution_count": 5,
   "id": "9e74ddd2",
   "metadata": {},
   "outputs": [
    {
     "name": "stdout",
     "output_type": "stream",
     "text": [
      "--- MCMC ---\n",
      "N_iterations = 8000\n",
      "N_walkers = 120\n",
      "N_samples = 960000\n",
      "\n"
     ]
    },
    {
     "name": "stderr",
     "output_type": "stream",
     "text": [
      "2022-06-22 20:26:15.875088: I tensorflow/core/util/cuda_solvers.cc:179] Creating GpuSolver handles for stream 0x562a1962aef0\n",
      "  0%|                                                                      | 0/8000 [00:00<?, ?it/s]/home/grads/.local/lib/python3.7/site-packages/emcee/moves/red_blue.py:99: RuntimeWarning: invalid value encountered in double_scalars\n",
      "  lnpdiff = f + nlp - state.log_prob[j]\n",
      "100%|███████████████████████████████████████████████████████████| 8000/8000 [03:07<00:00, 42.76it/s]\n"
     ]
    },
    {
     "data": {
      "text/plain": [
       "\"\\nfor sample in emu_sampler.sample(pos0, iterations=n_steps, progress=True):\\n        if(emu_sampler.iteration % 1000):\\n            continue\\n\\n        # Compute the autocorrelation time so far\\n        # Using tol=0 means that we'll always get an estimate even\\n        # if it isn't trustworthy\\n        tau = emu_sampler.get_autocorr_time(tol=0)\\n        atau = np.max(tau)\\n        autocorr[index] = atau\\n        autocorr_ratio[index] = atau/aold_tau\\n        index += 1\\n\\n        old_tau = tau\\n        aold_tau = np.max(old_tau)\\n\""
      ]
     },
     "execution_count": 5,
     "metadata": {},
     "output_type": "execute_result"
    }
   ],
   "source": [
    "autocorr       = np.zeros(n_steps)\n",
    "autocorr_ratio = np.zeros(n_steps)\n",
    "\n",
    "index = 0\n",
    "old_tau=np.inf\n",
    "aold_tau=0\n",
    "\n",
    "print('--- MCMC ---')\n",
    "print('N_iterations = {}'.format(n_steps))\n",
    "print('N_walkers = {}'.format(n_walkers))\n",
    "print('N_samples = {}\\n'.format(n_steps*n_walkers))\n",
    "\n",
    "def log_prob(theta):\n",
    "    p=tf_planck.posterior(theta.astype(np.float32)).numpy()\n",
    "    return p\n",
    "\n",
    "# instantiation\n",
    "tf_planck = cppl(parameters=parameters_and_priors, \n",
    "                                  tf_planck2018_lite_path='/home/grads/data/evan/cosmopower_emcee/cosmopower/likelihoods/tf_planck2018_lite',\n",
    "                                  tt_emu_model=tt_emu_model,\n",
    "                                  te_emu_model=te_emu_model,\n",
    "                                  ee_emu_model=ee_emu_model\n",
    "                                  )\n",
    "backend = emcee.backends.HDFBackend(\"/home/grads/data/evan/mc_data/planck_emulated.h5\")\n",
    "emu_sampler = emcee.EnsembleSampler(n_walkers, n_dim, log_prob, backend=backend, vectorize=True)#, pool=pool)\n",
    "emu_sampler.run_mcmc(pos0, n_steps, progress=True)\n",
    "'''\n",
    "for sample in emu_sampler.sample(pos0, iterations=n_steps, progress=True):\n",
    "        if(emu_sampler.iteration % 1000):\n",
    "            continue\n",
    "\n",
    "        # Compute the autocorrelation time so far\n",
    "        # Using tol=0 means that we'll always get an estimate even\n",
    "        # if it isn't trustworthy\n",
    "        tau = emu_sampler.get_autocorr_time(tol=0)\n",
    "        atau = np.max(tau)\n",
    "        autocorr[index] = atau\n",
    "        autocorr_ratio[index] = atau/aold_tau\n",
    "        index += 1\n",
    "\n",
    "        old_tau = tau\n",
    "        aold_tau = np.max(old_tau)\n",
    "'''"
   ]
  },
  {
   "cell_type": "code",
   "execution_count": 6,
   "id": "4280c70e",
   "metadata": {},
   "outputs": [
    {
     "name": "stdout",
     "output_type": "stream",
     "text": [
      "Removed no burn in\n"
     ]
    }
   ],
   "source": [
    "N_BURN_IN = 3000\n",
    "N_THIN=10\n",
    "\n",
    "samples = emu_sampler.chain[:,N_BURN_IN::N_THIN].reshape((-1,7))\n",
    "from getdist import plots, MCSamples\n",
    "names = [\"omegab\", \n",
    "         \"omegac\", \n",
    "         \"h\", \n",
    "         \"tau\",\n",
    "         \"ns\", \n",
    "         \"logA\", \n",
    "         \"Aplanck\"]\n",
    "labels = names\n",
    "mcsamples = MCSamples(samples=samples,names = names, labels = labels)\n",
    "g = plots.get_subplot_plotter()\n",
    "g.settings.axes_fontsize = 18\n",
    "g.settings.lab_fontsize = 30\n",
    "g.settings.legend_fontsize = 50\n",
    "g.triangle_plot([mcsamples], filled=True, legend_labels=['TF Planck 2018 lite'])"
   ]
  },
  {
   "cell_type": "code",
   "execution_count": 10,
   "id": "9fac4a42",
   "metadata": {},
   "outputs": [
    {
     "ename": "ValueError",
     "evalue": "x and y must have same first dimension, but have shapes (0,) and (49,)",
     "output_type": "error",
     "traceback": [
      "\u001b[0;31m---------------------------------------------------------------------------\u001b[0m",
      "\u001b[0;31mValueError\u001b[0m                                Traceback (most recent call last)",
      "\u001b[0;32m/tmp/ipykernel_1985867/232165529.py\u001b[0m in \u001b[0;36m<module>\u001b[0;34m\u001b[0m\n\u001b[1;32m      7\u001b[0m \u001b[0mplotlength\u001b[0m \u001b[0;34m=\u001b[0m \u001b[0;36m50\u001b[0m\u001b[0;34m\u001b[0m\u001b[0;34m\u001b[0m\u001b[0m\n\u001b[1;32m      8\u001b[0m \u001b[0;34m\u001b[0m\u001b[0m\n\u001b[0;32m----> 9\u001b[0;31m \u001b[0max1\u001b[0m\u001b[0;34m.\u001b[0m\u001b[0mplot\u001b[0m\u001b[0;34m(\u001b[0m\u001b[0mn\u001b[0m\u001b[0;34m[\u001b[0m\u001b[0;36m0\u001b[0m\u001b[0;34m:\u001b[0m\u001b[0mplotlength\u001b[0m\u001b[0;34m-\u001b[0m\u001b[0;36m1\u001b[0m\u001b[0;34m]\u001b[0m\u001b[0;34m,\u001b[0m\u001b[0mautocorr\u001b[0m\u001b[0;34m[\u001b[0m\u001b[0;36m1\u001b[0m\u001b[0;34m:\u001b[0m\u001b[0mplotlength\u001b[0m\u001b[0;34m]\u001b[0m\u001b[0;34m)\u001b[0m\u001b[0;34m\u001b[0m\u001b[0;34m\u001b[0m\u001b[0m\n\u001b[0m\u001b[1;32m     10\u001b[0m \u001b[0max1\u001b[0m\u001b[0;34m.\u001b[0m\u001b[0mplot\u001b[0m\u001b[0;34m(\u001b[0m\u001b[0mn\u001b[0m\u001b[0;34m[\u001b[0m\u001b[0;36m0\u001b[0m\u001b[0;34m:\u001b[0m\u001b[0mplotlength\u001b[0m\u001b[0;34m-\u001b[0m\u001b[0;36m1\u001b[0m\u001b[0;34m]\u001b[0m\u001b[0;34m,\u001b[0m\u001b[0mn\u001b[0m\u001b[0;34m[\u001b[0m\u001b[0;36m0\u001b[0m\u001b[0;34m:\u001b[0m\u001b[0mplotlength\u001b[0m\u001b[0;34m-\u001b[0m\u001b[0;36m1\u001b[0m\u001b[0;34m]\u001b[0m\u001b[0;34m/\u001b[0m\u001b[0;36m50\u001b[0m\u001b[0;34m,\u001b[0m\u001b[0;34m'k--'\u001b[0m\u001b[0;34m,\u001b[0m\u001b[0mlabel\u001b[0m\u001b[0;34m=\u001b[0m\u001b[0;34m'iterations/50'\u001b[0m\u001b[0;34m)\u001b[0m\u001b[0;34m\u001b[0m\u001b[0;34m\u001b[0m\u001b[0m\n\u001b[1;32m     11\u001b[0m \u001b[0max1\u001b[0m\u001b[0;34m.\u001b[0m\u001b[0mset_ylabel\u001b[0m\u001b[0;34m(\u001b[0m\u001b[0;34m'tau'\u001b[0m\u001b[0;34m)\u001b[0m\u001b[0;34m\u001b[0m\u001b[0;34m\u001b[0m\u001b[0m\n",
      "\u001b[0;32m~/.local/lib/python3.7/site-packages/matplotlib/axes/_axes.py\u001b[0m in \u001b[0;36mplot\u001b[0;34m(self, scalex, scaley, data, *args, **kwargs)\u001b[0m\n\u001b[1;32m   1603\u001b[0m         \"\"\"\n\u001b[1;32m   1604\u001b[0m         \u001b[0mkwargs\u001b[0m \u001b[0;34m=\u001b[0m \u001b[0mcbook\u001b[0m\u001b[0;34m.\u001b[0m\u001b[0mnormalize_kwargs\u001b[0m\u001b[0;34m(\u001b[0m\u001b[0mkwargs\u001b[0m\u001b[0;34m,\u001b[0m \u001b[0mmlines\u001b[0m\u001b[0;34m.\u001b[0m\u001b[0mLine2D\u001b[0m\u001b[0;34m)\u001b[0m\u001b[0;34m\u001b[0m\u001b[0;34m\u001b[0m\u001b[0m\n\u001b[0;32m-> 1605\u001b[0;31m         \u001b[0mlines\u001b[0m \u001b[0;34m=\u001b[0m \u001b[0;34m[\u001b[0m\u001b[0;34m*\u001b[0m\u001b[0mself\u001b[0m\u001b[0;34m.\u001b[0m\u001b[0m_get_lines\u001b[0m\u001b[0;34m(\u001b[0m\u001b[0;34m*\u001b[0m\u001b[0margs\u001b[0m\u001b[0;34m,\u001b[0m \u001b[0mdata\u001b[0m\u001b[0;34m=\u001b[0m\u001b[0mdata\u001b[0m\u001b[0;34m,\u001b[0m \u001b[0;34m**\u001b[0m\u001b[0mkwargs\u001b[0m\u001b[0;34m)\u001b[0m\u001b[0;34m]\u001b[0m\u001b[0;34m\u001b[0m\u001b[0;34m\u001b[0m\u001b[0m\n\u001b[0m\u001b[1;32m   1606\u001b[0m         \u001b[0;32mfor\u001b[0m \u001b[0mline\u001b[0m \u001b[0;32min\u001b[0m \u001b[0mlines\u001b[0m\u001b[0;34m:\u001b[0m\u001b[0;34m\u001b[0m\u001b[0;34m\u001b[0m\u001b[0m\n\u001b[1;32m   1607\u001b[0m             \u001b[0mself\u001b[0m\u001b[0;34m.\u001b[0m\u001b[0madd_line\u001b[0m\u001b[0;34m(\u001b[0m\u001b[0mline\u001b[0m\u001b[0;34m)\u001b[0m\u001b[0;34m\u001b[0m\u001b[0;34m\u001b[0m\u001b[0m\n",
      "\u001b[0;32m~/.local/lib/python3.7/site-packages/matplotlib/axes/_base.py\u001b[0m in \u001b[0;36m__call__\u001b[0;34m(self, data, *args, **kwargs)\u001b[0m\n\u001b[1;32m    313\u001b[0m                 \u001b[0mthis\u001b[0m \u001b[0;34m+=\u001b[0m \u001b[0margs\u001b[0m\u001b[0;34m[\u001b[0m\u001b[0;36m0\u001b[0m\u001b[0;34m]\u001b[0m\u001b[0;34m,\u001b[0m\u001b[0;34m\u001b[0m\u001b[0;34m\u001b[0m\u001b[0m\n\u001b[1;32m    314\u001b[0m                 \u001b[0margs\u001b[0m \u001b[0;34m=\u001b[0m \u001b[0margs\u001b[0m\u001b[0;34m[\u001b[0m\u001b[0;36m1\u001b[0m\u001b[0;34m:\u001b[0m\u001b[0;34m]\u001b[0m\u001b[0;34m\u001b[0m\u001b[0;34m\u001b[0m\u001b[0m\n\u001b[0;32m--> 315\u001b[0;31m             \u001b[0;32myield\u001b[0m \u001b[0;32mfrom\u001b[0m \u001b[0mself\u001b[0m\u001b[0;34m.\u001b[0m\u001b[0m_plot_args\u001b[0m\u001b[0;34m(\u001b[0m\u001b[0mthis\u001b[0m\u001b[0;34m,\u001b[0m \u001b[0mkwargs\u001b[0m\u001b[0;34m)\u001b[0m\u001b[0;34m\u001b[0m\u001b[0;34m\u001b[0m\u001b[0m\n\u001b[0m\u001b[1;32m    316\u001b[0m \u001b[0;34m\u001b[0m\u001b[0m\n\u001b[1;32m    317\u001b[0m     \u001b[0;32mdef\u001b[0m \u001b[0mget_next_color\u001b[0m\u001b[0;34m(\u001b[0m\u001b[0mself\u001b[0m\u001b[0;34m)\u001b[0m\u001b[0;34m:\u001b[0m\u001b[0;34m\u001b[0m\u001b[0;34m\u001b[0m\u001b[0m\n",
      "\u001b[0;32m~/.local/lib/python3.7/site-packages/matplotlib/axes/_base.py\u001b[0m in \u001b[0;36m_plot_args\u001b[0;34m(self, tup, kwargs, return_kwargs)\u001b[0m\n\u001b[1;32m    499\u001b[0m \u001b[0;34m\u001b[0m\u001b[0m\n\u001b[1;32m    500\u001b[0m         \u001b[0;32mif\u001b[0m \u001b[0mx\u001b[0m\u001b[0;34m.\u001b[0m\u001b[0mshape\u001b[0m\u001b[0;34m[\u001b[0m\u001b[0;36m0\u001b[0m\u001b[0;34m]\u001b[0m \u001b[0;34m!=\u001b[0m \u001b[0my\u001b[0m\u001b[0;34m.\u001b[0m\u001b[0mshape\u001b[0m\u001b[0;34m[\u001b[0m\u001b[0;36m0\u001b[0m\u001b[0;34m]\u001b[0m\u001b[0;34m:\u001b[0m\u001b[0;34m\u001b[0m\u001b[0;34m\u001b[0m\u001b[0m\n\u001b[0;32m--> 501\u001b[0;31m             raise ValueError(f\"x and y must have same first dimension, but \"\n\u001b[0m\u001b[1;32m    502\u001b[0m                              f\"have shapes {x.shape} and {y.shape}\")\n\u001b[1;32m    503\u001b[0m         \u001b[0;32mif\u001b[0m \u001b[0mx\u001b[0m\u001b[0;34m.\u001b[0m\u001b[0mndim\u001b[0m \u001b[0;34m>\u001b[0m \u001b[0;36m2\u001b[0m \u001b[0;32mor\u001b[0m \u001b[0my\u001b[0m\u001b[0;34m.\u001b[0m\u001b[0mndim\u001b[0m \u001b[0;34m>\u001b[0m \u001b[0;36m2\u001b[0m\u001b[0;34m:\u001b[0m\u001b[0;34m\u001b[0m\u001b[0;34m\u001b[0m\u001b[0m\n",
      "\u001b[0;31mValueError\u001b[0m: x and y must have same first dimension, but have shapes (0,) and (49,)"
     ]
    }
   ],
   "source": [
    "f, (ax1, ax2) = plt.subplots(1, 2, sharey=False)\n",
    "f.set_figheight(4)\n",
    "f.set_figwidth(8)\n",
    "n = 1000 * np.arange(2, index + 1)\n",
    "#print(n)\n",
    "#print(autocorr)\n",
    "plotlength = 50\n",
    "\n",
    "ax1.plot(n[0:plotlength-1],autocorr[1:plotlength])\n",
    "ax1.plot(n[0:plotlength-1],n[0:plotlength-1]/50,'k--',label='iterations/50')\n",
    "ax1.set_ylabel('tau')\n",
    "ax1.set_xlabel('iterations')\n",
    "ax1.set_ylim(70,90)\n",
    "ax1.legend()\n",
    "ax2.plot(n[0:plotlength-1],autocorr_ratio[1:plotlength])\n",
    "ax2.plot([0,1000*plotlength],[1,1],color='k')\n",
    "ax2.plot([0,1000*plotlength],[0.99,0.99],'k--')\n",
    "ax2.plot([0,1000*plotlength],[1.01,1.01],'k--')\n",
    "ax2.set_xlabel('iterations')\n",
    "ax2.set_ylabel('tau / prev. tau')\n",
    "ax2.set_ylim(0.98,1.05)\n",
    "plt.tight_layout()\n",
    "plt.show()\n",
    "#ax3.plot(n,autocorr_diff[1:index])\n",
    "#ax3.set_ylim(-0.01,1.1)"
   ]
  },
  {
   "cell_type": "code",
   "execution_count": 7,
   "id": "6d8f6a09",
   "metadata": {},
   "outputs": [],
   "source": [
    "mcsamples.saveAsText('planck_emulated', chain_index=None, make_dirs=False)"
   ]
  },
  {
   "cell_type": "code",
   "execution_count": null,
   "id": "f52b442c",
   "metadata": {},
   "outputs": [],
   "source": []
  }
 ],
 "metadata": {
  "kernelspec": {
   "display_name": "emu",
   "language": "python",
   "name": "emu"
  },
  "language_info": {
   "codemirror_mode": {
    "name": "ipython",
    "version": 3
   },
   "file_extension": ".py",
   "mimetype": "text/x-python",
   "name": "python",
   "nbconvert_exporter": "python",
   "pygments_lexer": "ipython3",
   "version": "3.7.7"
  }
 },
 "nbformat": 4,
 "nbformat_minor": 5
}
