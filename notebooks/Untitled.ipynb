{
 "cells": [
  {
   "cell_type": "code",
   "execution_count": 1,
   "id": "8dbc7645",
   "metadata": {},
   "outputs": [],
   "source": [
    "import numpy as np\n",
    "import matplotlib.pyplot as plt\n",
    "import tensorflow as tf\n",
    "import tensorflow_probability as tfp\n",
    "from tqdm.notebook import tqdm\n",
    "import sys\n",
    "import os\n",
    "import time\n",
    "import emcee\n",
    "from numpy import linalg\n",
    "import scipy\n",
    "import cosmopower as cp\n",
    "sys.path.append(os.path.join(os.path.dirname(\"__file__\"), '../cosmopower'))\n",
    "import likelihoods.tf_planck2018_lite as cppl\n",
    "%matplotlib inline"
   ]
  },
  {
   "cell_type": "code",
   "execution_count": 2,
   "id": "e566c0d8",
   "metadata": {},
   "outputs": [],
   "source": [
    "ipynb_path = os.path.dirname(os.path.realpath(\"__file__\"))\n",
    "\n",
    "tt_emu_model = cp.cosmopower_NN(restore=True,\n",
    "                                restore_filename=os.path.join(ipynb_path, '../cosmopower/trained_models/CP_paper/CMB/cmb_TT_NN')\n",
    "                               )\n",
    "\n",
    "te_emu_model = cp.cosmopower_PCAplusNN(restore=True,\n",
    "                                restore_filename=os.path.join(ipynb_path, '../cosmopower/trained_models/CP_paper/CMB/cmb_TE_PCAplusNN')\n",
    "                               )\n",
    "\n",
    "ee_emu_model = cp.cosmopower_NN(restore=True,\n",
    "                                restore_filename=os.path.join(ipynb_path, '../cosmopower/trained_models/CP_paper/CMB/cmb_EE_NN')\n",
    "                               )"
   ]
  },
  {
   "cell_type": "code",
   "execution_count": 3,
   "id": "7b492898",
   "metadata": {},
   "outputs": [],
   "source": [
    "# path to the tf_planck2018_lite likelihood\n",
    "tf_planck2018_lite_path = './../cosmopower/likelihoods/tf_planck2018_lite/'\n",
    "\n",
    "# parameters of the analysis, and their priors\n",
    "parameters_and_priors = {'omega_b':      [0.001, 0.04, 'uniform'],\n",
    "                         'omega_cdm':    [0.005, 0.99,  'uniform'],\n",
    "                         'h':            [0.2,   1.0,   'uniform'],\n",
    "                         'tau_reio':     [0.01,  0.8,   'uniform'],\n",
    "                         'n_s':          [0.9,   1.1,   'uniform'],\n",
    "                         'ln10^{10}A_s': [1.61,  3.91,  'uniform'],\n",
    "                         'A_planck':     [1.0,   0.01,  'gaussian'],\n",
    "                          }\n"
   ]
  },
  {
   "cell_type": "code",
   "execution_count": 4,
   "id": "5a6cc0cf",
   "metadata": {},
   "outputs": [],
   "source": [
    "# instantiation\n",
    "tf_planck = cppl(parameters=parameters_and_priors, \n",
    "                                  tf_planck2018_lite_path='/home/grads/data/evan/cosmopower_emcee/cosmopower/likelihoods/tf_planck2018_lite',\n",
    "                                  tt_emu_model=tt_emu_model,\n",
    "                                  te_emu_model=te_emu_model,\n",
    "                                  ee_emu_model=ee_emu_model\n",
    "                                  )"
   ]
  },
  {
   "cell_type": "code",
   "execution_count": 14,
   "id": "87d9ad3d",
   "metadata": {},
   "outputs": [
    {
     "name": "stdout",
     "output_type": "stream",
     "text": [
      "(613,)\n",
      "(613, 613)\n"
     ]
    }
   ],
   "source": [
    "X_data = tf_planck.X_data[0]\n",
    "fisher = tf_planck.fisher\n",
    "print(X_data.shape)\n",
    "print(fisher.shape)"
   ]
  },
  {
   "cell_type": "code",
   "execution_count": 40,
   "id": "e7983408",
   "metadata": {},
   "outputs": [
    {
     "name": "stdout",
     "output_type": "stream",
     "text": [
      "(5000, 613)\n"
     ]
    }
   ],
   "source": [
    "noisy_planck = np.random.multivariate_normal(X_data,np.linalg.inv(fisher),size=5000)\n",
    "print(noisy_planck.shape)"
   ]
  },
  {
   "cell_type": "code",
   "execution_count": 41,
   "id": "3d82c550",
   "metadata": {},
   "outputs": [
    {
     "name": "stdout",
     "output_type": "stream",
     "text": [
      "(5000,)\n"
     ]
    }
   ],
   "source": [
    "# chisq\n",
    "chisq = []\n",
    "\n",
    "for i in range(noisy_planck.shape[0]):\n",
    "    dv = noisy_planck[i]\n",
    "    _chisq = [dv-X_data] @ fisher @ np.transpose([dv-X_data])\n",
    "    chisq.append(_chisq[0][0])\n",
    "\n",
    "print(np.array(chisq).shape)"
   ]
  },
  {
   "cell_type": "code",
   "execution_count": 42,
   "id": "a9e6e658",
   "metadata": {},
   "outputs": [
    {
     "data": {
      "text/plain": [
       "Text(0.5, 0, '$\\\\chi^2$')"
      ]
     },
     "execution_count": 42,
     "metadata": {},
     "output_type": "execute_result"
    },
    {
     "data": {
      "image/png": "[encoded data removed]",
      "text/plain": [
       "<Figure size 432x288 with 1 Axes>"
      ]
     },
     "metadata": {
      "needs_background": "light"
     },
     "output_type": "display_data"
    }
   ],
   "source": [
    "plt.hist(chisq)\n",
    "plt.xlabel('$\\chi^2$')"
   ]
  },
  {
   "cell_type": "code",
   "execution_count": 43,
   "id": "2b1265dc",
   "metadata": {},
   "outputs": [],
   "source": [
    "np.savetxt('/home/grads/data/evan/noisy_planck.txt',noisy_planck)"
   ]
  },
  {
   "cell_type": "code",
   "execution_count": null,
   "id": "6f51f88f",
   "metadata": {},
   "outputs": [],
   "source": []
  }
 ],
 "metadata": {
  "kernelspec": {
   "display_name": "emu (CPU)",
   "language": "python",
   "name": "emu_cpu"
  },
  "language_info": {
   "codemirror_mode": {
    "name": "ipython",
    "version": 3
   },
   "file_extension": ".py",
   "mimetype": "text/x-python",
   "name": "python",
   "nbconvert_exporter": "python",
   "pygments_lexer": "ipython3",
   "version": "3.10.5"
  }
 },
 "nbformat": 4,
 "nbformat_minor": 5
}
